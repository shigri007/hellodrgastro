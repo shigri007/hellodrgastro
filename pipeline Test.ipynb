{
 "cells": [
  {
   "cell_type": "code",
   "execution_count": 6,
   "id": "24fbc0b8",
   "metadata": {},
   "outputs": [],
   "source": [
    "from DataPipeline.dataMiner import DataMiner"
   ]
  },
  {
   "cell_type": "code",
   "execution_count": 7,
   "id": "4e73164f",
   "metadata": {},
   "outputs": [],
   "source": [
    "obj = DataMiner('data')"
   ]
  },
  {
   "cell_type": "code",
   "execution_count": 8,
   "id": "9349514e",
   "metadata": {},
   "outputs": [],
   "source": [
    "obj.requestData()"
   ]
  },
  {
   "cell_type": "code",
   "execution_count": null,
   "id": "c1c67095",
   "metadata": {},
   "outputs": [],
   "source": []
  }
 ],
 "metadata": {
  "kernelspec": {
   "display_name": "Python 3 (ipykernel)",
   "language": "python",
   "name": "python3"
  },
  "language_info": {
   "codemirror_mode": {
    "name": "ipython",
    "version": 3
   },
   "file_extension": ".py",
   "mimetype": "text/x-python",
   "name": "python",
   "nbconvert_exporter": "python",
   "pygments_lexer": "ipython3",
   "version": "3.9.7"
  }
 },
 "nbformat": 4,
 "nbformat_minor": 5
}
