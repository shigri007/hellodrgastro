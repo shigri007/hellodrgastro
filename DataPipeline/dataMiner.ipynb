{
 "cells": [
  {
   "cell_type": "code",
   "execution_count": 81,
   "id": "d706ed0e",
   "metadata": {},
   "outputs": [],
   "source": [
    "import requests\n",
    "import json\n",
    "import time\n",
    "import os\n",
    "import sys\n",
    "\n",
    "\n",
    "\n",
    "\n",
    "class DataMiner:\n",
    "    \n",
    "    name = \"\"\n",
    "    \n",
    "    api_key = 'Kq9KsoDOYdLZ0vWEGxiDVRL0021FLBI2'\n",
    "    baseUrl = f'https://api.nytimes.com/svc/search/v2/articlesearch.json?q=health&api-key={api_key}'\n",
    "    \n",
    "   \n",
    "    \n",
    "    \n",
    "    \n",
    "    \n",
    "    def __init__(self, filename):\n",
    "        \n",
    "        self.name = filename+'.json'\n",
    "    \n",
    "    \n",
    "    def requestData(self):\n",
    "        \n",
    "        try:\n",
    "            data = requests.get(self.baseUrl, timeout=5).json()\n",
    "        except(requests.ConnectionError,requests.Timeout) as exception:\n",
    "            \n",
    "            temp = os.getcwd()\n",
    "            \n",
    "            if self.name in os.listdir(temp):\n",
    "                \n",
    "                os.remove(self.name)\n",
    "                \n",
    "                sys.exit()\n",
    "            \n",
    "            \n",
    "        \n",
    "        \n",
    "        time.sleep(10)\n",
    "        \n",
    "        outFile = open(self.name,'w')\n",
    "        \n",
    "        json.dump(data,outFile,indent=6)\n",
    "        \n",
    "        outFile.close()\n",
    "    \n",
    "    def extractArticle(self):\n",
    "        \n",
    "        f = open(self.name,'r')\n",
    "        \n",
    "        data = json.load(f)\n",
    "        \n",
    "       \n",
    "        \n",
    "        lst = data['response']['docs']\n",
    "        \n",
    "        f.close()\n",
    "        \n",
    "        return lst\n",
    "    \n",
    "    def imageList(self):\n",
    "        \n",
    "        temp = self.extractArticle()\n",
    "        img = []\n",
    "        \n",
    "        for i in range(0,len(temp)):\n",
    "            \n",
    "            if i == 4:\n",
    "                continue;\n",
    "            else:\n",
    "                \n",
    "                img.append('https://www.nytimes.com/'+temp[i]['multimedia'][2]['url'])\n",
    "            \n",
    "            if i == 4:\n",
    "                continue;\n",
    "    \n",
    "            \n",
    "        return img\n",
    "    \n",
    "    \n",
    "    \n",
    "        \n",
    "        \n",
    "        \n",
    "    "
   ]
  },
  {
   "cell_type": "code",
   "execution_count": 82,
   "id": "cbd1478c",
   "metadata": {},
   "outputs": [],
   "source": [
    "obj = DataMiner('data')"
   ]
  },
  {
   "cell_type": "code",
   "execution_count": 49,
   "id": "31ce5dc9",
   "metadata": {},
   "outputs": [],
   "source": [
    "obj.requestData()"
   ]
  },
  {
   "cell_type": "code",
   "execution_count": 75,
   "id": "e9f1f3e2",
   "metadata": {},
   "outputs": [],
   "source": [
    "lst = obj.extractArticle()"
   ]
  },
  {
   "cell_type": "code",
   "execution_count": 19,
   "id": "916a3b37",
   "metadata": {},
   "outputs": [
    {
     "data": {
      "text/plain": [
       "'C:\\\\Users\\\\pc\\\\Desktop\\\\fyp final\\\\v1\\\\env\\\\DataPipeline'"
      ]
     },
     "execution_count": 19,
     "metadata": {},
     "output_type": "execute_result"
    }
   ],
   "source": [
    "os.getcwd()"
   ]
  },
  {
   "cell_type": "code",
   "execution_count": 57,
   "id": "93e464bc",
   "metadata": {},
   "outputs": [
    {
     "data": {
      "text/plain": [
       "'https://www.nytimes.com/2022/05/05/health/covid-global-deaths.html'"
      ]
     },
     "execution_count": 57,
     "metadata": {},
     "output_type": "execute_result"
    }
   ],
   "source": [
    "lst[4]['web_url']"
   ]
  },
  {
   "cell_type": "code",
   "execution_count": 44,
   "id": "ce0cc3ae",
   "metadata": {},
   "outputs": [
    {
     "data": {
      "text/plain": [
       "10"
      ]
     },
     "execution_count": 44,
     "metadata": {},
     "output_type": "execute_result"
    }
   ],
   "source": [
    "len(lst)"
   ]
  },
  {
   "cell_type": "code",
   "execution_count": 83,
   "id": "27e6e61a",
   "metadata": {},
   "outputs": [],
   "source": [
    "res = obj.imageList()"
   ]
  },
  {
   "cell_type": "code",
   "execution_count": 62,
   "id": "3e2d8a18",
   "metadata": {},
   "outputs": [
    {
     "data": {
      "text/plain": [
       "'images/2021/04/11/well/00healthquiz-art/11Well-HealthQuiz-icon-articleLarge-v3.jpg'"
      ]
     },
     "execution_count": 62,
     "metadata": {},
     "output_type": "execute_result"
    }
   ],
   "source": [
    "lst[0]['multimedia'][0]['url']"
   ]
  },
  {
   "cell_type": "code",
   "execution_count": 63,
   "id": "391bc830",
   "metadata": {},
   "outputs": [
    {
     "data": {
      "text/plain": [
       "'images/2022/04/25/multimedia/25visionaries-hardeman/25visionaries-hardeman-articleLarge.jpg'"
      ]
     },
     "execution_count": 63,
     "metadata": {},
     "output_type": "execute_result"
    }
   ],
   "source": [
    "lst[1]['multimedia'][0]['url']"
   ]
  },
  {
   "cell_type": "code",
   "execution_count": 64,
   "id": "a2b76123",
   "metadata": {},
   "outputs": [
    {
     "data": {
      "text/plain": [
       "'images/2021/09/20/autossell/MIlly_CVR_FINAL_COLOR_v1/MIlly_CVR_FINAL_COLOR_v1-articleLarge.jpg'"
      ]
     },
     "execution_count": 64,
     "metadata": {},
     "output_type": "execute_result"
    }
   ],
   "source": [
    "lst[2]['multimedia'][0]['url']"
   ]
  },
  {
   "cell_type": "code",
   "execution_count": 65,
   "id": "48f478d2",
   "metadata": {},
   "outputs": [
    {
     "data": {
      "text/plain": [
       "'images/2022/04/21/science/00SCI-SPAN-LEVY-promo/00SCI-SPAN-LEVY-promo-articleLarge.jpg'"
      ]
     },
     "execution_count": 65,
     "metadata": {},
     "output_type": "execute_result"
    }
   ],
   "source": [
    "lst[3]['multimedia'][0]['url']"
   ]
  },
  {
   "cell_type": "code",
   "execution_count": 66,
   "id": "1495f2bc",
   "metadata": {},
   "outputs": [
    {
     "ename": "IndexError",
     "evalue": "list index out of range",
     "output_type": "error",
     "traceback": [
      "\u001b[1;31m---------------------------------------------------------------------------\u001b[0m",
      "\u001b[1;31mIndexError\u001b[0m                                Traceback (most recent call last)",
      "\u001b[1;32m~\\AppData\\Local\\Temp/ipykernel_10940/3076071117.py\u001b[0m in \u001b[0;36m<module>\u001b[1;34m\u001b[0m\n\u001b[1;32m----> 1\u001b[1;33m \u001b[0mlst\u001b[0m\u001b[1;33m[\u001b[0m\u001b[1;36m4\u001b[0m\u001b[1;33m]\u001b[0m\u001b[1;33m[\u001b[0m\u001b[1;34m'multimedia'\u001b[0m\u001b[1;33m]\u001b[0m\u001b[1;33m[\u001b[0m\u001b[1;36m0\u001b[0m\u001b[1;33m]\u001b[0m\u001b[1;33m[\u001b[0m\u001b[1;34m'url'\u001b[0m\u001b[1;33m]\u001b[0m\u001b[1;33m\u001b[0m\u001b[1;33m\u001b[0m\u001b[0m\n\u001b[0m",
      "\u001b[1;31mIndexError\u001b[0m: list index out of range"
     ]
    }
   ],
   "source": [
    "lst[4]['multimedia'][0]['url']"
   ]
  },
  {
   "cell_type": "code",
   "execution_count": 67,
   "id": "54be4b6e",
   "metadata": {},
   "outputs": [
    {
     "data": {
      "text/plain": [
       "'images/2022/05/04/climate/04trans-kids1/merlin_166907373_c997a51b-e99f-4673-b78d-5413c72654ba-articleLarge.jpg'"
      ]
     },
     "execution_count": 67,
     "metadata": {},
     "output_type": "execute_result"
    }
   ],
   "source": [
    "lst[5]['multimedia'][0]['url']"
   ]
  },
  {
   "cell_type": "code",
   "execution_count": 68,
   "id": "ef1d7977",
   "metadata": {},
   "outputs": [
    {
     "data": {
      "text/plain": [
       "'images/2022/04/29/science/00virus-variants1/00virus-variants1-articleLarge.jpg'"
      ]
     },
     "execution_count": 68,
     "metadata": {},
     "output_type": "execute_result"
    }
   ],
   "source": [
    "lst[6]['multimedia'][0]['url']"
   ]
  },
  {
   "cell_type": "code",
   "execution_count": 69,
   "id": "b278b92e",
   "metadata": {},
   "outputs": [
    {
     "data": {
      "text/plain": [
       "'images/2022/05/02/science/02hepatitis-kids/02hepatitis-kids-articleLarge.jpg'"
      ]
     },
     "execution_count": 69,
     "metadata": {},
     "output_type": "execute_result"
    }
   ],
   "source": [
    "lst[7]['multimedia'][0]['url']"
   ]
  },
  {
   "cell_type": "code",
   "execution_count": 70,
   "id": "9879f0a6",
   "metadata": {},
   "outputs": [
    {
     "data": {
      "text/plain": [
       "'images/2022/05/03/science/03SCI-FRYER1/03SCI-FRYER1-articleLarge-v2.jpg'"
      ]
     },
     "execution_count": 70,
     "metadata": {},
     "output_type": "execute_result"
    }
   ],
   "source": [
    "lst[8]['multimedia'][0]['url']"
   ]
  },
  {
   "cell_type": "code",
   "execution_count": 71,
   "id": "1865191f",
   "metadata": {},
   "outputs": [
    {
     "data": {
      "text/plain": [
       "'images/2022/04/28/us/politics/00dc-safetynet-2/merlin_205509444_ce4aebd9-9c98-4126-8c12-e37a6b0baf36-articleLarge.jpg'"
      ]
     },
     "execution_count": 71,
     "metadata": {},
     "output_type": "execute_result"
    }
   ],
   "source": [
    "lst[9]['multimedia'][0]['url']"
   ]
  },
  {
   "cell_type": "code",
   "execution_count": 84,
   "id": "dbfb777f",
   "metadata": {},
   "outputs": [
    {
     "data": {
      "text/plain": [
       "['https://www.nytimes.com/images/2021/04/11/well/00healthquiz-art/11Well-HealthQuiz-icon-blog480-v3.jpg',\n",
       " 'https://www.nytimes.com/images/2022/04/25/multimedia/25visionaries-hardeman/25visionaries-hardeman-blog480.jpg',\n",
       " 'https://www.nytimes.com/images/2021/09/20/autossell/MIlly_CVR_FINAL_COLOR_v1/MIlly_CVR_FINAL_COLOR_v1-blog480.jpg',\n",
       " 'https://www.nytimes.com/images/2022/04/21/science/00SCI-SPAN-LEVY-promo/00SCI-SPAN-LEVY-promo-blog480.jpg',\n",
       " 'https://www.nytimes.com/images/2022/05/04/climate/04trans-kids1/merlin_166907373_c997a51b-e99f-4673-b78d-5413c72654ba-blog480.jpg',\n",
       " 'https://www.nytimes.com/images/2022/04/29/science/00virus-variants1/00virus-variants1-blog480.jpg',\n",
       " 'https://www.nytimes.com/images/2022/05/02/science/02hepatitis-kids/02hepatitis-kids-blog480.jpg',\n",
       " 'https://www.nytimes.com/images/2022/05/03/science/03SCI-FRYER1/03SCI-FRYER1-blog480-v2.jpg',\n",
       " 'https://www.nytimes.com/images/2022/04/28/us/politics/00dc-safetynet-2/merlin_205509444_ce4aebd9-9c98-4126-8c12-e37a6b0baf36-blog480.jpg']"
      ]
     },
     "execution_count": 84,
     "metadata": {},
     "output_type": "execute_result"
    }
   ],
   "source": [
    "res"
   ]
  },
  {
   "cell_type": "code",
   "execution_count": null,
   "id": "413cf57f",
   "metadata": {},
   "outputs": [],
   "source": []
  }
 ],
 "metadata": {
  "kernelspec": {
   "display_name": "Python 3 (ipykernel)",
   "language": "python",
   "name": "python3"
  },
  "language_info": {
   "codemirror_mode": {
    "name": "ipython",
    "version": 3
   },
   "file_extension": ".py",
   "mimetype": "text/x-python",
   "name": "python",
   "nbconvert_exporter": "python",
   "pygments_lexer": "ipython3",
   "version": "3.9.7"
  }
 },
 "nbformat": 4,
 "nbformat_minor": 5
}
